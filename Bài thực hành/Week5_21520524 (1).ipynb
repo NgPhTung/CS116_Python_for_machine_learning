{
 "cells": [
  {
   "cell_type": "markdown",
   "id": "cfc5c84a",
   "metadata": {},
   "source": [
    "1. Sử dụng ngôn ngữ lập trình Python và thư viện sklearn, viết các hàm để thực hiện các mô hình hồi quy tuyến tính sau:\n",
    "$$\n",
    "\\begin{aligned}\n",
    "\\underset{\\beta}{\\operatorname{argmin}}\\|\\mathbf{y} - \\mathbf{X}\\beta\\|_2^2 + \\rho\\|\\beta\\|_1 \\\\\n",
    "\\underset{\\beta}{\\operatorname{argmin}}\\|\\mathbf{y} - \\mathbf{X}\\beta\\|_2^2 + \\rho\\|\\beta\\|_2^2\n",
    "\\end{aligned}\n",
    "$$\n",
    "Khi nhận đầu vào bao gồm $\\mathbf{X} \\in \\mathbb{R}^{n \\times p}$, $\\mathbf{y} \\in \\mathbb{R}^n$, và hằng số $\\rho \\in \\mathbb{R}$, các hàm này trả về lời giải tối ưu $\\beta$ khi giải quyết loại bài toán hồi quy tuyến tính cụ thể (Lasso hoặc Ridge).\\\n",
    "2. Sử dụng các hàm ở trên, huấn luyện các mô hình hồi quy tuyến tính được chính quy hóa dạng $l_1$ hoặc $l_2$ trên các tập dữ liệu `data_a.csv` và `data_b.csv`. Cột cuối cùng trong mỗi tập dữ liệu là biến mục tiêu $\\mathbf{y}$, và các cột còn lại tạo nên ma trận các biến độc lập $\\mathbf{X}$. Với mỗi tập dữ liệu, chia thành $50\\%$ cho huấn luyện, $25\\%$ kiểm thử, và $25\\%$ cho kiểm tra. Sử dụng tập kiểm thử để chọn giá trị tối ưu cho các tham số $\\rho$ trong dãy $[0,001, 0.01, 0.1, 1, 2]$ cho các mô hình. Tính $\\|\\mathbf{y} - \\mathbf{X}\\beta\\|_2$ trên tập kiểm tra sử dụng giá trị $\\beta$ từ các mô hình hồi quy tuyến tính được chính quy hóa dạng $l_1$, $l_2$ và dạng thông thường ($\\rho = 0$). Bằng việc so sánh thêm với mô hình đơn giản nhất là dự đoán sử dụng giá trị trung bình $\\mathbf{y}$ của tập huấn luyện và kiểm thử, cho biết phương pháp nào cho kết quả tốt nhất?\\\n",
    "3. Dựa vào các kết quả trên hai tập dữ liệu, lợi ích của các mô hình hồi quy tuyến tính được chính quy hóa là gì? Trường hợp nào chúng ta nên sử dụng phương pháp hồi quy tuyến tính được chính quy hóa so với dạng thông thường?"
   ]
  },
  {
   "cell_type": "code",
   "execution_count": 136,
   "id": "adb4e875",
   "metadata": {},
   "outputs": [],
   "source": [
    "# Các bạn trình bày bài giải tại đây. Các bạn nên cố gắng sử dụng Markdown trong trường hợp cần thiết!"
   ]
  },
  {
   "cell_type": "markdown",
   "id": "29bb9155",
   "metadata": {},
   "source": [
    "# Import thư viện"
   ]
  },
  {
   "cell_type": "code",
   "execution_count": 1,
   "id": "f20ad49f",
   "metadata": {},
   "outputs": [],
   "source": [
    "from sklearn.linear_model import Ridge, Lasso, LinearRegression\n",
    "import pandas as pd\n",
    "import numpy as np\n",
    "from sklearn.metrics import mean_squared_error\n",
    "from sklearn.model_selection import train_test_split"
   ]
  },
  {
   "cell_type": "markdown",
   "id": "a1922512",
   "metadata": {},
   "source": [
    "# Đọc bộ dữ liệu"
   ]
  },
  {
   "cell_type": "code",
   "execution_count": 2,
   "id": "d618d511",
   "metadata": {},
   "outputs": [],
   "source": [
    "data_a = pd.read_csv('data_a.csv', header = None)\n",
    "data_b = pd.read_csv('data_b.csv', header = None)\n"
   ]
  },
  {
   "cell_type": "markdown",
   "id": "7e7cb1b0",
   "metadata": {},
   "source": [
    "# Xử lý dữ liệu"
   ]
  },
  {
   "cell_type": "code",
   "execution_count": 3,
   "id": "f0852ebc",
   "metadata": {},
   "outputs": [],
   "source": [
    "alpha_p = [0.001,0.01,0.1,1,2]\n"
   ]
  },
  {
   "cell_type": "code",
   "execution_count": 4,
   "id": "350cc94a",
   "metadata": {},
   "outputs": [],
   "source": [
    "def split_data(data):\n",
    "  X= data.iloc[:, :-1] \n",
    "  y= data.iloc[:,-1] \n",
    "  \n",
    "  X_train, X_temp,y_train,y_temp =train_test_split(X,y,test_size=0.5,random_state=42)\n",
    "  X_val, X_test, y_val, y_test = train_test_split(X_temp, y_temp, test_size=0.5, random_state=42)\n",
    "\n",
    "  return X_train, X_val, X_test, y_train,y_val,y_test"
   ]
  },
  {
   "cell_type": "code",
   "execution_count": 5,
   "id": "94560bae",
   "metadata": {},
   "outputs": [],
   "source": [
    "x_a_train, x_a_validation, x_a_test, y_a_train, y_a_validation,y_a_test = split_data(data_a)\n",
    "x_b_train, x_b_validation, x_b_test, y_b_train, y_b_validation,y_b_test = split_data(data_b)"
   ]
  },
  {
   "cell_type": "markdown",
   "id": "2ca65421",
   "metadata": {},
   "source": [
    "# Tạo các hàm linear regression"
   ]
  },
  {
   "cell_type": "markdown",
   "id": "d3ea18ae",
   "metadata": {},
   "source": [
    "#  + linear regression with regularization"
   ]
  },
  {
   "cell_type": "code",
   "execution_count": 6,
   "id": "63d602be",
   "metadata": {},
   "outputs": [],
   "source": [
    "def linear_regression_with_regularization(X, Y, alpha, regularization):\n",
    "    if regularization == 'Lasso':\n",
    "        model = Lasso(alpha = alpha)\n",
    "    elif regularization == 'Ridge':\n",
    "        model = Ridge(alpha = alpha)\n",
    "    model.fit(X,Y)\n",
    "    return model"
   ]
  },
  {
   "cell_type": "markdown",
   "id": "729801f1",
   "metadata": {},
   "source": [
    "#  + linear regression with regularization"
   ]
  },
  {
   "cell_type": "code",
   "execution_count": 7,
   "id": "b27016ed",
   "metadata": {},
   "outputs": [],
   "source": [
    "def linear_regression(X,Y):\n",
    "    model = LinearRegression()\n",
    "    model.fit(X,Y)\n",
    "    return model"
   ]
  },
  {
   "cell_type": "markdown",
   "id": "e830d12b",
   "metadata": {},
   "source": [
    "# Hàm huấn luyện"
   ]
  },
  {
   "cell_type": "code",
   "execution_count": 8,
   "id": "fd878b41",
   "metadata": {},
   "outputs": [],
   "source": [
    "def train(x_train, y_train, x_validation, y_validation, x_test, y_test, alpha_p):\n",
    "\n",
    "    y_pred_train_lasso_s = []\n",
    "    y_pred_validation_lasso_s = [] \n",
    "    y_pred_train_ridge_s= []\n",
    "    y_pred_validation_ridge_s = []\n",
    "    mse_validation_s = []\n",
    "    mse_test_s = []\n",
    "    y_train_pred_s = []\n",
    "    y_validation_pred_s = []\n",
    "    mse_lasso_vals = []\n",
    "    mse_ridge_vals = []\n",
    "    mse_lasso_tests = []\n",
    "    mse_ridge_tests = []\n",
    "\n",
    "    for alpha in alpha_p:\n",
    "        # Lasso\n",
    "        lasso_model = linear_regression_with_regularization(x_train, y_train, alpha, 'Lasso') \n",
    "        #lasso_models.append(lasso_model)   #  \n",
    "\n",
    "        y_pred_validation_lasso = lasso_model.predict(x_validation)\n",
    "        mse_lasso_val = mean_squared_error(y_validation, y_pred_validation_lasso, squared=False)\n",
    "        mse_lasso_vals.append(mse_lasso_val)           ##### Lasso_val\n",
    "\n",
    "        y_pred_test_lasso = lasso_model.predict(x_test)\n",
    "        mse_lasso_test = mean_squared_error(y_test, y_pred_test_lasso, squared=False)\n",
    "        mse_lasso_tests.append(mse_lasso_test)         ##### Lasso_test\n",
    "        \n",
    "        y_pred_train_lasso = lasso_model.predict(x_train)\n",
    "        \n",
    "        y_pred_train_lasso_s.append(y_pred_train_lasso.mean())           ##### Lasso_mean_y_train_pred\n",
    "        y_pred_validation_lasso_s.append(y_pred_validation_lasso.mean()) ##### Lasso_mean_y_val_pred\n",
    "        \n",
    "        \n",
    "        # Ridge\n",
    "        ridge_model = linear_regression_with_regularization(x_train, y_train, alpha, 'Ridge')\n",
    "        #ridge_models.append(ridge_model)\n",
    "\n",
    "        y_pred_validation_ridge = ridge_model.predict(x_validation)\n",
    "        mse_ridge_val = mean_squared_error(y_validation, y_pred_validation_ridge, squared=False)\n",
    "        mse_ridge_vals.append(mse_ridge_val)           ##### Ridge_val\n",
    "\n",
    "        y_pred_test_ridge = ridge_model.predict(x_test)\n",
    "        mse_ridge_test = mean_squared_error(y_test, y_pred_test_ridge, squared=False)\n",
    "        mse_ridge_tests.append(mse_ridge_test)         ##### Ridge_test\n",
    "        \n",
    "        y_pred_train_ridge = ridge_model.predict(x_train)\n",
    "        \n",
    "        y_pred_train_ridge_s.append(y_pred_train_ridge.mean())           ##### Ridge_mean_y_train_pred\n",
    "        y_pred_validation_ridge_s.append(y_pred_validation_ridge.mean()) ##### Ridge_mean_y_val_pred\n",
    "        \n",
    "    linear_model = linear_regression(x_train, y_train)\n",
    "    \n",
    "    y_validation_pred = linear_model.predict(x_validation)\n",
    "    y_test_pred = linear_model.predict(x_test)\n",
    "    y_train_pred = linear_model.predict(x_train)\n",
    "    \n",
    "    mse_validation = mean_squared_error(y_validation, y_validation_pred, squared=False)  \n",
    "    mse_validation_s.append(mse_validation)     #### LinearRegression_val\n",
    "    \n",
    "    mse_test = mean_squared_error(y_test, y_test_pred, squared=False)\n",
    "    mse_test_s.append(mse_test)    #### LinearRegression_test   \n",
    "    \n",
    "    y_train_pred_s.append(y_train_pred.mean())  #### LR_mean_y_train_pred\n",
    "    y_validation_pred_s.append(y_validation_pred.mean())  #### LR_mean_y_val_pred\n",
    "    return mse_lasso_vals, mse_lasso_tests, y_pred_train_lasso_s, y_pred_validation_lasso_s, mse_ridge_vals, mse_ridge_tests, y_pred_train_ridge_s, y_pred_validation_ridge_s, mse_validation_s, mse_test_s, y_train_pred_s, y_validation_pred_s"
   ]
  },
  {
   "cell_type": "markdown",
   "id": "93014ae4",
   "metadata": {},
   "source": [
    "# Thực hiện huấn luyện"
   ]
  },
  {
   "cell_type": "markdown",
   "id": "469999b7",
   "metadata": {},
   "source": [
    "# A. Thực nghiệm trên bộ dữ liệu data_a theo yêu cầu 2"
   ]
  },
  {
   "cell_type": "code",
   "execution_count": 9,
   "id": "64f531f3",
   "metadata": {},
   "outputs": [],
   "source": [
    "result = train(x_a_train, y_a_train, x_a_validation, y_a_validation, x_a_test, y_a_test, alpha_p)\n",
    "\n",
    "mse_lasso_vals = result[0]\n",
    "mse_lasso_tests = result[1]\n",
    "y_pred_train_lasso_s = result[2]\n",
    "y_pred_validation_lasso_s = result[3]\n",
    "mse_ridge_vals = result[4]\n",
    "mse_ridge_tests = result[5]\n",
    "y_pred_train_ridge_s = result[6]\n",
    "y_pred_validation_ridge_s = result[7]\n",
    "mse_validation_s = result[8]\n",
    "mse_test_s = result[9]\n",
    "y_train_pred_s = result[10]\n",
    "y_validation_pred_s = result[11]\n"
   ]
  },
  {
   "cell_type": "code",
   "execution_count": 10,
   "id": "f5211c38",
   "metadata": {},
   "outputs": [
    {
     "name": "stdout",
     "output_type": "stream",
     "text": [
      "### LASSO MODEL\n",
      "Giá trị Root Mean Squared Error (RMSE) thu được trên tập kiểm thử của data_a tương ứng với các giá trị alpha là:\n",
      "[0.001, 0.01, 0.1, 1, 2]\n",
      "[0.1251241907709637, 0.12389272509182203, 0.2596937777310851, 0.2596937777310851, 0.2596937777310851]\n"
     ]
    }
   ],
   "source": [
    "print(\"### LASSO MODEL\")\n",
    "print(\"Giá trị Root Mean Squared Error (RMSE) thu được trên tập kiểm thử của data_a tương ứng với các giá trị alpha là:\")\n",
    "print(alpha_p)\n",
    "print(mse_lasso_vals)"
   ]
  },
  {
   "cell_type": "markdown",
   "id": "02a5573a",
   "metadata": {},
   "source": [
    "**Từ kết quả trên của model LASSO, nhận thấy giá trị Root Mean Squared Error (RMSE) nhỏ nhất thuộc về alpha = 0.01 => 0.01 chính là giá trị tối ưu của tham số p cho mô hình Lasso**"
   ]
  },
  {
   "cell_type": "code",
   "execution_count": 11,
   "id": "34a4a1c6",
   "metadata": {},
   "outputs": [
    {
     "name": "stdout",
     "output_type": "stream",
     "text": [
      "### RIDGE MODEL\n",
      "Giá trị Root Mean Squared Error (RMSE) thu được trên tập kiểm thử của data_a tương ứng với các giá trị alpha là:\n",
      "[0.001, 0.01, 0.1, 1, 2]\n",
      "[0.16390485423807172, 0.1564811229112059, 0.14220413598859552, 0.11609416628726124, 0.11074222501008223]\n"
     ]
    }
   ],
   "source": [
    "print(\"### RIDGE MODEL\")\n",
    "print(\"Giá trị Root Mean Squared Error (RMSE) thu được trên tập kiểm thử của data_a tương ứng với các giá trị alpha là:\")\n",
    "print(alpha_p)\n",
    "print(mse_ridge_vals)"
   ]
  },
  {
   "cell_type": "markdown",
   "id": "637f70b2",
   "metadata": {},
   "source": [
    "**Từ kết quả trên của model RIDGE, nhận thấy giá trị Root Mean Squared Error (RMSE) nhỏ nhất thuộc về alpha = 2 => 2 chính là giá trị tối ưu của tham số p cho mô hình Ridge**"
   ]
  },
  {
   "cell_type": "markdown",
   "id": "6dc8ccf1",
   "metadata": {},
   "source": [
    "**Giá trị $\\|\\mathbf{y} - \\mathbf{X}\\beta\\|_2$ tức là dạng thông thường Linear Regression ($\\rho = 0$) và RMSE trên test của mô hình $l_1$, $l_2$.**"
   ]
  },
  {
   "cell_type": "code",
   "execution_count": 12,
   "id": "d541dc42",
   "metadata": {},
   "outputs": [
    {
     "name": "stdout",
     "output_type": "stream",
     "text": [
      "LINEAR REGRESSION: (p = 0) [0.24058201351648714]\n",
      "LINEAR REGRESSION WITH REGULARIZAION: \n",
      "     WITH ALPHA: \n",
      "        [0.001, 0.01, 0.1, 1, 2]\n",
      "         + LASSO:  [0.15864138364420327, 0.17549431894687667, 0.333551018781526, 0.333551018781526, 0.333551018781526]\n",
      "         + RIDGE:  [0.23936224145462662, 0.22796262125773775, 0.19340471203249698, 0.15655496838257693, 0.1535112104801779]\n"
     ]
    }
   ],
   "source": [
    "\n",
    "print(\"LINEAR REGRESSION: (p = 0)\", mse_test_s)\n",
    "print(\"LINEAR REGRESSION WITH REGULARIZAION: \")\n",
    "print(\"     WITH ALPHA: \")\n",
    "print(\"       \", alpha_p)\n",
    "print(\"         + LASSO: \", mse_lasso_tests)\n",
    "print(\"         + RIDGE: \", mse_ridge_tests)"
   ]
  },
  {
   "cell_type": "markdown",
   "id": "8e466159",
   "metadata": {},
   "source": [
    "**Giá trị trung bình của giá trị y dự đoán trên tập huấn luyện (train) và kiểm thử (validation)**"
   ]
  },
  {
   "cell_type": "code",
   "execution_count": 13,
   "id": "2024ac55",
   "metadata": {},
   "outputs": [
    {
     "name": "stdout",
     "output_type": "stream",
     "text": [
      "LINEAR REGRESSION: \n",
      "   y_pred_train mean =  [0.33901639344262335]\n",
      "   y_pred_train mean =  [0.39171716194340317]\n",
      "LINEAR REGRESSION WITH REGULARIZATION: \n",
      "   WITH ALPHA: \n",
      "    [0.001, 0.01, 0.1, 1, 2]\n",
      "     LASSO MODEL: \n",
      "       y_a_train_pred mean = :  [0.3390163934426231, 0.33901639344262313, 0.339016393442623, 0.339016393442623, 0.339016393442623]\n",
      "       y_a_validation_pred mean = :  [0.3509812579667193, 0.3656011994379325, 0.33901639344262313, 0.33901639344262313, 0.33901639344262313]\n",
      "     RIDGE MODEL: \n",
      "       y_a_train_pred mean = :  [0.33901639344262285, 0.3390163934426233, 0.33901639344262313, 0.339016393442623, 0.33901639344262297]\n",
      "       y_a_validation_pred mean = :  [0.3926081022947556, 0.38684037020382184, 0.3715327424476283, 0.3585146277226181, 0.3565293403494334]\n"
     ]
    }
   ],
   "source": [
    "print(\"LINEAR REGRESSION: \")\n",
    "print(\"   y_pred_train mean = \", y_train_pred_s)\n",
    "print(\"   y_pred_train mean = \", y_validation_pred_s)\n",
    "print(\"LINEAR REGRESSION WITH REGULARIZATION: \")\n",
    "print(\"   WITH ALPHA: \")\n",
    "print(\"   \", alpha_p)\n",
    "print(\"     LASSO MODEL: \")\n",
    "print(\"       y_a_train_pred mean = : \", y_pred_train_lasso_s)\n",
    "print(\"       y_a_validation_pred mean = : \", y_pred_validation_lasso_s)\n",
    "print(\"     RIDGE MODEL: \")\n",
    "print(\"       y_a_train_pred mean = : \", y_pred_train_ridge_s)\n",
    "print(\"       y_a_validation_pred mean = : \", y_pred_validation_ridge_s)\n",
    "\n"
   ]
  },
  {
   "cell_type": "markdown",
   "id": "25c239fe",
   "metadata": {},
   "source": [
    "** Nhận xét cho tập data_a.csv: Với kết quả thu được ở trên, đối tới tập dữ liệu data_a thì mô hình Ridge với alpha =2 đều sẽ cho kết quả tốt hơn Lasso và Linear Regression trên cả hai tập kiểm thử và kiểm tra. Nó cho kết quả tốt hơn LASSO model và LINEAR REGRESSION khi dự đoán sử dụng giá trị trung bình 𝐲 của tập huấn luyện và kiểm thử  **"
   ]
  },
  {
   "cell_type": "markdown",
   "id": "396aaa05",
   "metadata": {},
   "source": [
    "# B. Thực nghiệm trên bộ dữ liệu data_b theo yêu cầu 2"
   ]
  },
  {
   "cell_type": "code",
   "execution_count": 14,
   "id": "8aefd247",
   "metadata": {},
   "outputs": [],
   "source": [
    "result = train(x_b_train, y_b_train, x_b_validation, y_b_validation, x_b_test, y_b_test, alpha_p)\n",
    "\n",
    "mse_lasso_vals = result[0]\n",
    "mse_lasso_tests = result[1]\n",
    "y_pred_train_lasso_s = result[2]\n",
    "y_pred_validation_lasso_s = result[3]\n",
    "mse_ridge_vals = result[4]\n",
    "mse_ridge_tests = result[5]\n",
    "y_pred_train_ridge_s = result[6]\n",
    "y_pred_validation_ridge_s = result[7]\n",
    "mse_validation_s = result[8]\n",
    "mse_test_s = result[9]\n",
    "y_train_pred_s = result[10]\n",
    "y_validation_pred_s = result[11]\n"
   ]
  },
  {
   "cell_type": "code",
   "execution_count": 15,
   "id": "f541f77d",
   "metadata": {},
   "outputs": [
    {
     "name": "stdout",
     "output_type": "stream",
     "text": [
      "### LASSO MODEL\n",
      "Giá trị Root Mean Squared Error (RMSE) thu được trên tập kiểm thử của data_b tương ứng với các giá trị alpha là:\n",
      "[0.001, 0.01, 0.1, 1, 2]\n",
      "[4.418185262420349, 4.426982557644045, 4.482922757325381, 4.803861299796965, 5.301736390477789]\n"
     ]
    }
   ],
   "source": [
    "print(\"### LASSO MODEL\")\n",
    "print(\"Giá trị Root Mean Squared Error (RMSE) thu được trên tập kiểm thử của data_b tương ứng với các giá trị alpha là:\")\n",
    "print(alpha_p)\n",
    "print(mse_lasso_vals)"
   ]
  },
  {
   "cell_type": "markdown",
   "id": "64ed4e6b",
   "metadata": {},
   "source": [
    "**Từ kết quả trên của model LASSO, nhận thấy giá trị Root Mean Squared Error (RMSE) nhỏ nhất thuộc về alpha = 0.001 => 0.001 chính là giá trị tối ưu của tham số p cho mô hình Lasso**"
   ]
  },
  {
   "cell_type": "code",
   "execution_count": 16,
   "id": "80dd7c68",
   "metadata": {},
   "outputs": [
    {
     "name": "stdout",
     "output_type": "stream",
     "text": [
      "### RIDGE MODEL\n",
      "Giá trị Root Mean Squared Error (RMSE) thu được trên tập kiểm thử của data_b tương ứng với các giá trị alpha là:\n",
      "[0.001, 0.01, 0.1, 1, 2]\n",
      "[4.417663283793894, 4.418050580815581, 4.422199265415187, 4.4533738506539216, 4.4668862005794505]\n"
     ]
    }
   ],
   "source": [
    "print(\"### RIDGE MODEL\")\n",
    "print(\"Giá trị Root Mean Squared Error (RMSE) thu được trên tập kiểm thử của data_b tương ứng với các giá trị alpha là:\")\n",
    "print(alpha_p)\n",
    "print(mse_ridge_vals)"
   ]
  },
  {
   "cell_type": "markdown",
   "id": "23a2d42a",
   "metadata": {},
   "source": [
    "**Từ kết quả trên của model RIDGE, nhận thấy giá trị Root Mean Squared Error (RMSE) nhỏ nhất thuộc về alpha = 0.001 => 0.001 chính là giá trị tối ưu của tham số p cho mô hình Ridge**"
   ]
  },
  {
   "cell_type": "markdown",
   "id": "2f76d8be",
   "metadata": {},
   "source": [
    "**Giá trị $\\|\\mathbf{y} - \\mathbf{X}\\beta\\|_2$ tức là dạng thông thường Linear Regression ($\\rho = 0$) và RMSE trên test của mô hình $l_1$, $l_2$.**"
   ]
  },
  {
   "cell_type": "code",
   "execution_count": 17,
   "id": "7a7bd188",
   "metadata": {},
   "outputs": [
    {
     "name": "stdout",
     "output_type": "stream",
     "text": [
      "LINEAR REGRESSION: (p = 0) [5.548949539357637]\n",
      "LINEAR REGRESSION WITH REGULARIZAION: \n",
      "     WITH ALPHA: \n",
      "        [0.001, 0.01, 0.1, 1, 2]\n",
      "         + LASSO:  [5.550356979107798, 5.566430257142291, 5.592786170833481, 5.4958555408877485, 5.878490591859225]\n",
      "         + RIDGE:  [5.549067958162439, 5.55012468283846, 5.559816111726943, 5.602265234988519, 5.606757656959702]\n"
     ]
    }
   ],
   "source": [
    "\n",
    "print(\"LINEAR REGRESSION: (p = 0)\", mse_test_s)\n",
    "print(\"LINEAR REGRESSION WITH REGULARIZAION: \")\n",
    "print(\"     WITH ALPHA: \")\n",
    "print(\"       \", alpha_p)\n",
    "print(\"         + LASSO: \", mse_lasso_tests)\n",
    "print(\"         + RIDGE: \", mse_ridge_tests)"
   ]
  },
  {
   "cell_type": "markdown",
   "id": "4735c63c",
   "metadata": {},
   "source": [
    "**Giá trị trung bình của giá trị y dự đoán trên tập huấn luyện (train) và kiểm thử (validation)**"
   ]
  },
  {
   "cell_type": "code",
   "execution_count": 18,
   "id": "1eee1e35",
   "metadata": {},
   "outputs": [
    {
     "name": "stdout",
     "output_type": "stream",
     "text": [
      "LINEAR REGRESSION: \n",
      "   y_pred_train mean =  [22.748616600790513]\n",
      "   y_pred_train mean =  [22.289624566971526]\n",
      "LINEAR REGRESSION WITH REGULARIZATION: \n",
      "   WITH ALPHA: \n",
      "    [0.001, 0.01, 0.1, 1, 2]\n",
      "     LASSO MODEL: \n",
      "       y_b_train_pred mean = :  [22.74861660079052, 22.748616600790513, 22.748616600790513, 22.748616600790513, 22.748616600790513]\n",
      "       y_b_validation_pred mean = :  [22.28964064682016, 22.289787457949437, 22.289012256692853, 22.300512297924747, 22.301899931367192]\n",
      "     RIDGE MODEL: \n",
      "       y_b_train_pred mean = :  [22.74861660079052, 22.74861660079052, 22.748616600790513, 22.748616600790516, 22.74861660079052]\n",
      "       y_b_validation_pred mean = :  [22.289623879942436, 22.28961788852559, 22.289574675995418, 22.289840044832534, 22.290507784438173]\n"
     ]
    }
   ],
   "source": [
    "print(\"LINEAR REGRESSION: \")\n",
    "print(\"   y_pred_train mean = \", y_train_pred_s)\n",
    "print(\"   y_pred_train mean = \", y_validation_pred_s)\n",
    "print(\"LINEAR REGRESSION WITH REGULARIZATION: \")\n",
    "print(\"   WITH ALPHA: \")\n",
    "print(\"   \", alpha_p)\n",
    "print(\"     LASSO MODEL: \")\n",
    "print(\"       y_b_train_pred mean = : \", y_pred_train_lasso_s)\n",
    "print(\"       y_b_validation_pred mean = : \", y_pred_validation_lasso_s)\n",
    "print(\"     RIDGE MODEL: \")\n",
    "print(\"       y_b_train_pred mean = : \", y_pred_train_ridge_s)\n",
    "print(\"       y_b_validation_pred mean = : \", y_pred_validation_ridge_s)\n",
    "\n"
   ]
  },
  {
   "cell_type": "markdown",
   "id": "a9352bcc",
   "metadata": {},
   "source": [
    "**#Nhận xét cho tập data_b.csv: Với kết quả thu được ở trên, đối tới tập dữ liệu data_a thì mô hình Ridge với alpha =0.001 cho kết quả tốt hơn trên tập kiểm thử và mô hình Lasso với alpha =1 cho kết quả tốt hơn trên tập kiểm tra. Chúng tốt hơn Linear Regression. **"
   ]
  },
  {
   "cell_type": "markdown",
   "id": "de3addf5",
   "metadata": {},
   "source": [
    "# Yêu cầu 3:"
   ]
  },
  {
   "cell_type": "markdown",
   "id": "0fb9d897",
   "metadata": {},
   "source": [
    "1. Lợi ích của mô hình hồi quy tuyến tính được chính quy hóa:\n",
    "\n",
    "\n",
    "*  Giảm overfitting: Chính quy hóa giúp hạn chế việc mô hình quá khớp với dữ liệu huấn luyện, từ đó cải thiện khả năng dự đoán trên dữ liệu mới.\n",
    "*   Giảm độ phức tạp của mô hình: Chính quy hóa giúp làm giảm độ phức tạp của mô hình, khiến cho mô hình thu được có thể được diễn giải và giải thích dễ dàng hơn.\n",
    "*  Tối ưu hóa hệ số: Chính quy hóa giúp tối ưu hóa hệ số của mô hình, giúp thu được giá trị tối ưu cho các hệ số sai số của mô hình.\n",
    "*  Cải thiện hiệu suất mô hình. Chính quy hóa giúp cải thiện hiệu suất mô hình trên dữ liệu mới bằng cách giúp mô hình học được các mối quan hệ quan trọng trong dữ liệu và tránh học các mối quan hệ ngẫu nhiên.\n",
    "\n",
    "2. Các trường hợp sử dụng:\n",
    "- Sử dụng phương pháp hồi quy tuyến tính được chính quy hóa khi: dữ liệu có nhiều đặc trưng và không có đủ dữ liệu huấn luyện(ít sample) để giảm overfitting, tăng độ chính xác của mô hình, cụ thể là dữ liệu trong file data_a.csv\n",
    "\n",
    "- Sử dụng phương pháp hồi quy thông thường khi: dữ liệu có số lượng đặc trưng ít và đủ dữ liệu huấn luyện, cụ thể là dữ liệu trong file data_b.csv. Tuy nhiê, chúng ta cũm có thể áp dụng các dạng chính quy hóa để đảm bảo mô hình không quá phức tạp."
   ]
  },
  {
   "cell_type": "code",
   "execution_count": null,
   "id": "7d493df5",
   "metadata": {},
   "outputs": [],
   "source": []
  }
 ],
 "metadata": {
  "kernelspec": {
   "display_name": "Python 3 (ipykernel)",
   "language": "python",
   "name": "python3"
  },
  "language_info": {
   "codemirror_mode": {
    "name": "ipython",
    "version": 3
   },
   "file_extension": ".py",
   "mimetype": "text/x-python",
   "name": "python",
   "nbconvert_exporter": "python",
   "pygments_lexer": "ipython3",
   "version": "3.9.7"
  }
 },
 "nbformat": 4,
 "nbformat_minor": 5
}
